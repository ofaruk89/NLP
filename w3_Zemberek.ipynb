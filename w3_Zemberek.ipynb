{
 "cells": [
  {
   "cell_type": "code",
   "execution_count": 1,
   "id": "81d5b080",
   "metadata": {},
   "outputs": [
    {
     "name": "stdout",
     "output_type": "stream",
     "text": [
      "2024-10-21 08:37:49,274 - zemberek.morphology.turkish_morphology - INFO\n",
      "Msg: TurkishMorphology instance initialized in 3.6093716621398926\n",
      "\n"
     ]
    }
   ],
   "source": [
    "#!pip install zemberek-python==0.2.2\n",
    "import time\n",
    "import logging\n",
    "\n",
    "from zemberek import (\n",
    "    TurkishSpellChecker,\n",
    "    TurkishSentenceNormalizer,\n",
    "    TurkishSentenceExtractor,\n",
    "    TurkishMorphology,\n",
    "    TurkishTokenizer\n",
    ")\n",
    "\n",
    "logger = logging.getLogger(__name__)\n",
    "\n",
    "examples = [\"Yrn okua gidicem\",\n",
    "            \"Tmm, yarin havuza giricem ve aksama kadar yaticam :)\",\n",
    "            \"ah aynen ya annemde fark ettı siz evinizden cıkmayın diyo\",\n",
    "            \"gercek mı bu? Yuh! Artık unutulması bile beklenmiyo\",\n",
    "            \"Hayır hayat telaşm olmasa alacam buraları gökdelen dikicem.\",\n",
    "            \"yok hocam kesınlıkle oyle birşey yok\",\n",
    "            \"herseyi soyle hayatında olmaması gerek bence boyle ınsanların falan baskı yapıyosa\",\n",
    "            \"email adresim zemberek_python@loodos.com\",\n",
    "            \"Kredi başvrusu yapmk istiyrum.\",\n",
    "            \"Bankanizin hesp blgilerini ogrenmek istyorum.\"]\n",
    "\n",
    "morphology = TurkishMorphology.create_with_defaults()"
   ]
  },
  {
   "cell_type": "code",
   "execution_count": 4,
   "id": "7348d7cd",
   "metadata": {},
   "outputs": [
    {
     "name": "stdout",
     "output_type": "stream",
     "text": [
      "2024-10-17 19:24:09,871 - __main__ - INFO\n",
      "Msg: Normalization instance created in: 5.782530069351196 s\n",
      "\n",
      "Yrn okua gidicem\n",
      "yarın okula gideceğim \n",
      "\n",
      "Tmm, yarin havuza giricem ve aksama kadar yaticam :)\n",
      "tamam , yarın havuza gireceğim ve akşama kadar yatacağım :) \n",
      "\n",
      "ah aynen ya annemde fark ettı siz evinizden cıkmayın diyo\n",
      "ah aynen ya annemde fark etti siz evinizden çıkmayın diyor \n",
      "\n",
      "gercek mı bu? Yuh! Artık unutulması bile beklenmiyo\n",
      "gerçek mi bu ? yuh ! artık unutulması bile beklenmiyor \n",
      "\n",
      "Hayır hayat telaşm olmasa alacam buraları gökdelen dikicem.\n",
      "hayır hayat telaşı olmasa alacağım buraları gökdelen dikeceğim . \n",
      "\n",
      "yok hocam kesınlıkle oyle birşey yok\n",
      "yok hocam kesinlikle öyle bir şey yok \n",
      "\n",
      "herseyi soyle hayatında olmaması gerek bence boyle ınsanların falan baskı yapıyosa\n",
      "herşeyi söyle hayatında olmaması gerek bence böyle insanların falan baskı yapıyorsa \n",
      "\n",
      "email adresim zemberek_python@loodos.com\n",
      "mail adresim zemberek_python@loodos.com \n",
      "\n",
      "Kredi başvrusu yapmk istiyrum.\n",
      "kredi başvurusu yapmak istiyorum . \n",
      "\n",
      "Bankanizin hesp blgilerini ogrenmek istyorum.\n",
      "bankanızın hesap bilgilerini öğrenmek istiyorum . \n",
      "\n",
      "2024-10-17 19:24:10,530 - __main__ - INFO\n",
      "Msg: Sentences normalized in: 0.6592364311218262 s\n",
      "\n",
      "2024-10-17 19:24:15,501 - __main__ - INFO\n",
      "Msg: Spell checker instance created in: 4.970702171325684 s\n",
      "\n"
     ]
    }
   ],
   "source": [
    "# SENTENCE NORMALIZATION\n",
    "start = time.time()\n",
    "normalizer = TurkishSentenceNormalizer(morphology)\n",
    "logger.info(f\"Normalization instance created in: {time.time() - start} s\")\n",
    "\n",
    "start = time.time()\n",
    "for example in examples:\n",
    "    print(example)\n",
    "    print(normalizer.normalize(example), \"\\n\")\n",
    "logger.info(f\"Sentences normalized in: {time.time() - start} s\")\n",
    "\n",
    "start = time.time()\n",
    "sc = TurkishSpellChecker(morphology)\n",
    "logger.info(f\"Spell checker instance created in: {time.time() - start} s\")"
   ]
  },
  {
   "cell_type": "code",
   "execution_count": 5,
   "id": "7658ee17",
   "metadata": {},
   "outputs": [
    {
     "name": "stdout",
     "output_type": "stream",
     "text": [
      "okuyablirim = okuyabilirim\n",
      "tartısıyor = tartışıyor tartılıyor\n",
      "Ankar'ada = Ankara'da Ankara'ya Ankara'dan Ankaray'da Ankara'nda Ankara'mda Ankara'ca Ankara'ma Angara'da Antara'da Ankaray'a Ankara'na Anakara'da\n",
      "knlıca = kanlıca kanlıca kalıca kılıca anlıca kınlıca\n",
      "yapablrim = \n",
      "kıredi = kredi küredi\n",
      "geldm = geldi geldim gelim gelem\n",
      "geliyom = geliyor geliyim\n",
      "aldm = aldı alım aldım alem alim alim alam aldi aldo Aldi'm Aldo'm Al'da Al'ım alda Al'dım Al'dı\n",
      "asln = asla aslan aslan aslı aslı asli aslen asan asın asin As'ın As'lın As'lı aslın assn Aslı'n As'la aslin As'lan\n",
      "2024-10-17 19:24:15,720 - __main__ - INFO\n",
      "Msg: Spells checked in: 0.20245671272277832 s\n",
      "\n"
     ]
    }
   ],
   "source": [
    "# SPELLING SUGGESTION\n",
    "li = [\"okuyablirim\", \"tartısıyor\", \"Ankar'ada\", \"knlıca\", \"yapablrim\", \"kıredi\", \"geldm\", \"geliyom\", \"aldm\", \"asln\"]\n",
    "start = time.time()\n",
    "for word in li:\n",
    "    print(word + \" = \" + ' '.join(sc.suggest_for_word(word)))\n",
    "logger.info(f\"Spells checked in: {time.time() - start} s\")"
   ]
  },
  {
   "cell_type": "code",
   "execution_count": 4,
   "id": "0a89a199",
   "metadata": {},
   "outputs": [
    {
     "name": "stdout",
     "output_type": "stream",
     "text": [
      "Extractor instance created in:  0.011968851089477539  s\n",
      "Sentences separated in 0.000997304916381836s\n",
      "İnsanoğlu aslında ne para ne sevgi ne kariyer ne şöhret ne de çevre ile sonsuza dek mutlu olabilecek bir yapıya sahiptir.\n",
      "Dış kaynaklardan gelebilecek bu mutluluklar sadece belirli bir zaman için insanı mutlu kılıyor.\n",
      "Kişi bu kaynakları elde ettiği zaman belirli bir dönem için kendini iyi hissediyor, ancak alışma dönemine girdiği andan itibaren bu iyilik hali hızla tükeniyor.\n",
      "Mutlu olma sanatının özü bu değildir.\n",
      "Gerçek mutluluk, kişinin her türlü olaya ve duruma karşı kendini pozitif tutarak mutlu hissedebilmesi halidir.\n",
      "Bu davranış şeklini edinen insan, zor günlerde güçlü, mutlu günlerde zevk alan biri olur ve mutluluğu kalıcı kılar.\n",
      "\n",
      "\n"
     ]
    }
   ],
   "source": [
    "# SENTENCE BOUNDARY DETECTION\n",
    "start = time.time()\n",
    "extractor = TurkishSentenceExtractor()\n",
    "print(\"Extractor instance created in: \", time.time() - start, \" s\")\n",
    "\n",
    "text = \"İnsanoğlu aslında ne para ne sevgi ne kariyer ne şöhret ne de çevre ile sonsuza dek mutlu olabilecek bir \" \\\n",
    "       \"yapıya sahiptir. Dış kaynaklardan gelebilecek bu mutluluklar sadece belirli bir zaman için insanı mutlu \" \\\n",
    "       \"kılıyor. Kişi bu kaynakları elde ettiği zaman belirli bir dönem için kendini iyi hissediyor, ancak alışma \" \\\n",
    "       \"dönemine girdiği andan itibaren bu iyilik hali hızla tükeniyor. Mutlu olma sanatının özü bu değildir. Gerçek \" \\\n",
    "       \"mutluluk, kişinin her türlü olaya ve duruma karşı kendini pozitif tutarak mutlu hissedebilmesi halidir. Bu \" \\\n",
    "       \"davranış şeklini edinen insan, zor günlerde güçlü, mutlu günlerde zevk alan biri olur ve mutluluğu kalıcı \" \\\n",
    "       \"kılar. \"\n",
    "\n",
    "start = time.time()\n",
    "sentences = extractor.from_paragraph(text)\n",
    "print(f\"Sentences separated in {time.time() - start}s\")\n",
    "\n",
    "for sentence in sentences:\n",
    "    print(sentence)\n",
    "print(\"\\n\")"
   ]
  },
  {
   "cell_type": "code",
   "execution_count": 5,
   "id": "c778d8dd",
   "metadata": {},
   "outputs": [
    {
     "name": "stdout",
     "output_type": "stream",
     "text": [
      "[Kale:Noun, Prop] kale:Noun+A3sg+m:P1sg+in:Gen\n",
      "[kale:Noun] kale:Noun+A3sg+m:P1sg+in:Gen\n",
      "[kalem:Noun] kalem:Noun+A3sg+in:Gen\n",
      "[kalem:Noun] kalem:Noun+A3sg+in:P2sg\n",
      "\n",
      "\n"
     ]
    }
   ],
   "source": [
    "results = morphology.analyze(\"kalemin\")\n",
    "for result in results:\n",
    "    print(result)\n",
    "print(\"\\n\")"
   ]
  },
  {
   "cell_type": "code",
   "execution_count": 6,
   "id": "80309c8f",
   "metadata": {},
   "outputs": [
    {
     "name": "stdout",
     "output_type": "stream",
     "text": [
      "\n",
      "Before disambiguation\n",
      "Word = Yarın\n",
      "[yarın:Adv] yarın:Adv\n",
      "[yarmak:Verb] yar:Verb+Imp+ın:A2pl\n",
      "[yar:Noun] yar:Noun+A3sg+ın:Gen\n",
      "[yar:Noun] yar:Noun+A3sg+ın:P2sg\n",
      "[yarı:Noun] yarı:Noun+A3sg+n:P2sg\n",
      "[yarın:Noun, Time] yarın:Noun+A3sg\n",
      "[yarı:Adj] yarı:Adj|Zero→Noun+A3sg+n:P2sg\n",
      "Word = kar\n",
      "[karmak:Verb] kar:Verb+Imp+A2sg\n",
      "[kâr:Noun] kar:Noun+A3sg\n",
      "[kar:Noun] kar:Noun+A3sg\n",
      "Word = yağacak\n",
      "[yağmak:Verb] yağ:Verb+acak:Fut+A3sg\n",
      "[yağmak:Verb] yağ:Verb|acak:FutPart→Adj\n",
      "Word = .\n",
      "[.:Punc] .:Punc\n",
      "\n",
      "After disambiguation\n",
      "[yarın:Noun, Time] yarın:Noun+A3sg\n",
      "[kar:Noun] kar:Noun+A3sg\n",
      "[yağmak:Verb] yağ:Verb+acak:Fut+A3sg\n",
      "[.:Punc] .:Punc\n"
     ]
    }
   ],
   "source": [
    "# SENTENCE ANALYSIS AND DISAMBIGUATION\n",
    "\n",
    "sentence = \"Yarın kar yağacak.\"\n",
    "analysis = morphology.analyze_sentence(sentence)\n",
    "after = morphology.disambiguate(sentence, analysis)\n",
    "\n",
    "print(\"\\nBefore disambiguation\")\n",
    "for e in analysis:\n",
    "    print(f\"Word = {e.inp}\")\n",
    "    for s in e:\n",
    "        print(s.format_string())\n",
    "\n",
    "print(\"\\nAfter disambiguation\")\n",
    "for s in after.best_analysis():\n",
    "    print(s.format_string())"
   ]
  },
  {
   "cell_type": "code",
   "execution_count": 7,
   "id": "203a16a4",
   "metadata": {},
   "outputs": [
    {
     "name": "stdout",
     "output_type": "stream",
     "text": [
      "Content =  Saat\n",
      "Type =  Word\n",
      "Start =  0\n",
      "Stop =  3 \n",
      "\n",
      "Content =  12:00\n",
      "Type =  Time\n",
      "Start =  5\n",
      "Stop =  9 \n",
      "\n",
      "Content =  .\n",
      "Type =  Punctuation\n",
      "Start =  10\n",
      "Stop =  10 \n",
      "\n"
     ]
    }
   ],
   "source": [
    "# TOKENIZATION\n",
    "tokenizer = TurkishTokenizer.DEFAULT\n",
    "\n",
    "tokens = tokenizer.tokenize(\"Saat 12:00.\")\n",
    "for token in tokens:\n",
    "    print('Content = ', token.content)\n",
    "    print('Type = ', token.type_.name)\n",
    "    print('Start = ', token.start)\n",
    "    print('Stop = ', token.end, '\\n')"
   ]
  },
  {
   "cell_type": "code",
   "execution_count": null,
   "id": "2ce40b2b",
   "metadata": {},
   "outputs": [],
   "source": []
  }
 ],
 "metadata": {
  "kernelspec": {
   "display_name": "Python 3 (ipykernel)",
   "language": "python",
   "name": "python3"
  },
  "language_info": {
   "codemirror_mode": {
    "name": "ipython",
    "version": 3
   },
   "file_extension": ".py",
   "mimetype": "text/x-python",
   "name": "python",
   "nbconvert_exporter": "python",
   "pygments_lexer": "ipython3",
   "version": "3.12.4"
  }
 },
 "nbformat": 4,
 "nbformat_minor": 5
}
